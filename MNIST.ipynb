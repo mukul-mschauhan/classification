{
  "nbformat": 4,
  "nbformat_minor": 0,
  "metadata": {
    "colab": {
      "provenance": [],
      "gpuType": "V28",
      "authorship_tag": "ABX9TyOzIgXU6H6XpzsTxaykajii",
      "include_colab_link": true
    },
    "kernelspec": {
      "name": "python3",
      "display_name": "Python 3"
    },
    "language_info": {
      "name": "python"
    },
    "accelerator": "TPU"
  },
  "cells": [
    {
      "cell_type": "markdown",
      "metadata": {
        "id": "view-in-github",
        "colab_type": "text"
      },
      "source": [
        "<a href=\"https://colab.research.google.com/github/mukul-mschauhan/classification/blob/main/MNIST.ipynb\" target=\"_parent\"><img src=\"https://colab.research.google.com/assets/colab-badge.svg\" alt=\"Open In Colab\"/></a>"
      ]
    },
    {
      "cell_type": "code",
      "execution_count": 1,
      "metadata": {
        "id": "Gt5_2u6wt_cQ"
      },
      "outputs": [],
      "source": [
        "import numpy as np\n",
        "import pandas as pd\n",
        "import matplotlib.pyplot as plt\n",
        "import seaborn as sns\n",
        "import warnings\n",
        "warnings.filterwarnings('ignore')"
      ]
    },
    {
      "cell_type": "code",
      "source": [
        "train = pd.read_csv('/content/train.csv')\n",
        "test = pd.read_csv('/content/test.csv')"
      ],
      "metadata": {
        "id": "kWMtvWQgw3kY"
      },
      "execution_count": 2,
      "outputs": []
    },
    {
      "cell_type": "markdown",
      "source": [
        "### Logistic Regression"
      ],
      "metadata": {
        "id": "FLRUW7o1xbPq"
      }
    },
    {
      "cell_type": "code",
      "source": [
        "# Logistic Regression can handle multiclass problem...\n",
        "from sklearn.linear_model import LogisticRegression\n",
        "lg = LogisticRegression()\n",
        "\n",
        "X = train.drop(\"label\", axis = 1)\n",
        "y = train.label\n",
        "\n",
        "pred = lg.fit(X, y).predict(test)"
      ],
      "metadata": {
        "id": "LPi93HbpxBPY"
      },
      "execution_count": 4,
      "outputs": []
    },
    {
      "cell_type": "code",
      "source": [
        "# Submission\n",
        "submission = pd.DataFrame({\"ImageId\":test.index+1, \"Label\":pred})\n",
        "\n",
        "# Export to csv\n",
        "submission.to_csv(\"Logistics.csv\", index = False) #0.91"
      ],
      "metadata": {
        "id": "qqSQxjqzxCav"
      },
      "execution_count": 6,
      "outputs": []
    },
    {
      "cell_type": "markdown",
      "source": [
        "### Decision Tree Classifier"
      ],
      "metadata": {
        "id": "6ePgntoH0MLv"
      }
    },
    {
      "cell_type": "code",
      "source": [
        "from sklearn.tree import DecisionTreeClassifier\n",
        "dtree = DecisionTreeClassifier()\n",
        "pred_dtree = dtree.fit(X, y).predict(test)\n",
        "\n",
        "submission = pd.DataFrame({\"ImageId\":test.index+1, \"Label\":pred_dtree})\n",
        "submission.to_csv(\"Decision.csv\", index = False)\n",
        "\n",
        "# Export to csv\n",
        "submission.to_csv(\"DecisionTree.csv\", index = False) # 0.8590\n"
      ],
      "metadata": {
        "id": "Te_z3LRpyqvY"
      },
      "execution_count": 9,
      "outputs": []
    },
    {
      "cell_type": "markdown",
      "source": [
        "### Random Forest Classifier"
      ],
      "metadata": {
        "id": "BDwMgtnl1Q_I"
      }
    },
    {
      "cell_type": "code",
      "source": [
        "from sklearn.ensemble import RandomForestClassifier\n",
        "rf = RandomForestClassifier()\n",
        "\n",
        "pred_rf = rf.fit(X, y).predict(test)\n",
        "\n",
        "submission = pd.DataFrame({\"ImageId\":test.index+1, \"Label\":pred_rf})\n",
        "submission.to_csv(\"RandomForest.csv\", index = False) #0.9657"
      ],
      "metadata": {
        "id": "kXEMttDeyue-"
      },
      "execution_count": 10,
      "outputs": []
    },
    {
      "cell_type": "code",
      "source": [
        "from sklearn.ensemble import GradientBoostingClassifier\n",
        "gbm = GradientBoostingClassifier()\n",
        "\n",
        "pred_gbm = gbm.fit(X, y).predict(test)\n",
        "\n",
        "submission = pd.DataFrame({\"ImageId\":test.index+1, \"Label\":pred_gbm})\n",
        "submission.to_csv(\"GBM.csv\", index = False) #0.9424"
      ],
      "metadata": {
        "id": "2WwD5BDL1b0R"
      },
      "execution_count": 11,
      "outputs": []
    },
    {
      "cell_type": "code",
      "source": [
        "!pip install -q lightgbm"
      ],
      "metadata": {
        "colab": {
          "base_uri": "https://localhost:8080/"
        },
        "id": "AbtXczWBBlzD",
        "outputId": "602d3e4d-34db-4a36-f021-16e203f3f9d9"
      },
      "execution_count": 13,
      "outputs": [
        {
          "output_type": "stream",
          "name": "stdout",
          "text": [
            "\u001b[?25l   \u001b[90m━━━━━━━━━━━━━━━━━━━━━━━━━━━━━━━━━━━━━━━━\u001b[0m \u001b[32m0.0/3.6 MB\u001b[0m \u001b[31m?\u001b[0m eta \u001b[36m-:--:--\u001b[0m\r\u001b[2K   \u001b[91m━━━\u001b[0m\u001b[90m╺\u001b[0m\u001b[90m━━━━━━━━━━━━━━━━━━━━━━━━━━━━━━━━━━━━\u001b[0m \u001b[32m0.3/3.6 MB\u001b[0m \u001b[31m8.6 MB/s\u001b[0m eta \u001b[36m0:00:01\u001b[0m\r\u001b[2K   \u001b[91m━━━━━━━━━━━━━━━━━━━━━━━━━━━━━━━━\u001b[0m\u001b[90m╺\u001b[0m\u001b[90m━━━━━━━\u001b[0m \u001b[32m2.8/3.6 MB\u001b[0m \u001b[31m41.7 MB/s\u001b[0m eta \u001b[36m0:00:01\u001b[0m\r\u001b[2K   \u001b[90m━━━━━━━━━━━━━━━━━━━━━━━━━━━━━━━━━━━━━━━━\u001b[0m \u001b[32m3.6/3.6 MB\u001b[0m \u001b[31m35.9 MB/s\u001b[0m eta \u001b[36m0:00:00\u001b[0m\n",
            "\u001b[?25h"
          ]
        }
      ]
    },
    {
      "cell_type": "code",
      "source": [
        "from lightgbm import LGBMClassifier\n",
        "lgbm = LGBMClassifier()\n",
        "pred_lgbm = lgbm.fit(X, y).predict(test)\n",
        "\n",
        "submission = pd.DataFrame({\"ImageId\":test.index+1, \"Label\":pred_lgbm})\n",
        "submission.to_csv(\"LGBM.csv\", index = False) #0.97307"
      ],
      "metadata": {
        "colab": {
          "base_uri": "https://localhost:8080/"
        },
        "id": "obeT5ciR3F-0",
        "outputId": "4a61a6ef-2f0c-4e9e-8a3e-417df147435f"
      },
      "execution_count": 14,
      "outputs": [
        {
          "output_type": "stream",
          "name": "stdout",
          "text": [
            "[LightGBM] [Info] Auto-choosing col-wise multi-threading, the overhead of testing was 0.124934 seconds.\n",
            "You can set `force_col_wise=true` to remove the overhead.\n",
            "[LightGBM] [Info] Total Bins 105387\n",
            "[LightGBM] [Info] Number of data points in the train set: 42000, number of used features: 620\n",
            "[LightGBM] [Info] Start training from score -2.318908\n",
            "[LightGBM] [Info] Start training from score -2.193517\n",
            "[LightGBM] [Info] Start training from score -2.308076\n",
            "[LightGBM] [Info] Start training from score -2.267264\n",
            "[LightGBM] [Info] Start training from score -2.333535\n",
            "[LightGBM] [Info] Start training from score -2.403985\n",
            "[LightGBM] [Info] Start training from score -2.317699\n",
            "[LightGBM] [Info] Start training from score -2.255838\n",
            "[LightGBM] [Info] Start training from score -2.335748\n",
            "[LightGBM] [Info] Start training from score -2.305446\n"
          ]
        }
      ]
    },
    {
      "cell_type": "code",
      "source": [],
      "metadata": {
        "id": "RNzqui6KBgjz"
      },
      "execution_count": null,
      "outputs": []
    }
  ]
}